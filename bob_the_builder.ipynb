{
 "cells": [
  {
   "cell_type": "markdown",
   "id": "07be525d",
   "metadata": {},
   "source": [
    "You are given a feature matrix and a single datapoint to predict. Your job will be to build a Logistic Regression model with the feature matrix and make a prediction (1 or 0) of the single datapoint."
   ]
  },
  {
   "cell_type": "code",
   "execution_count": 1,
   "id": "14388683",
   "metadata": {},
   "outputs": [],
   "source": [
    "from sklearn.linear_model import LogisticRegression\n",
    "import pandas as pd"
   ]
  },
  {
   "cell_type": "code",
   "execution_count": 2,
   "id": "0c3379af",
   "metadata": {},
   "outputs": [
    {
     "name": "stdout",
     "output_type": "stream",
     "text": [
      "6\n",
      "3\n",
      "3\n",
      "3\n",
      "3\n",
      "3\n",
      "33\n",
      "33\n",
      "3\n"
     ]
    }
   ],
   "source": [
    "n = int(input())\n",
    "X = []\n",
    "for i in range(n):\n",
    "    X.append([float(x) for x in input().split()])\n",
    "y = [int(x) for x in input().split()]\n",
    "datapoint = [float(x) for x in input().split()]"
   ]
  },
  {
   "cell_type": "markdown",
   "id": "017193ac",
   "metadata": {},
   "source": [
    "from sklearn.linear_model import LogisticRegression\n",
    "import pandas as pd\n",
    "\n",
    "\n",
    "df = pd.DataFrame(X, columns = ['cl1', 'cl2'])\n",
    "df['target'] = y\n",
    "\n",
    "X = df[['cl1', 'cl2']].values\n",
    "y = df['target'].values\n",
    "\n",
    "clf = LogisticRegression()\n",
    "clf.fit(X, y)\n",
    "y_pred = clf.predict([datapoint])\n",
    "print(y_pred[0])\n",
    " ### "
   ]
  }
 ],
 "metadata": {
  "kernelspec": {
   "display_name": "Python 3 (ipykernel)",
   "language": "python",
   "name": "python3"
  },
  "language_info": {
   "codemirror_mode": {
    "name": "ipython",
    "version": 3
   },
   "file_extension": ".py",
   "mimetype": "text/x-python",
   "name": "python",
   "nbconvert_exporter": "python",
   "pygments_lexer": "ipython3",
   "version": "3.9.7"
  }
 },
 "nbformat": 4,
 "nbformat_minor": 5
}
